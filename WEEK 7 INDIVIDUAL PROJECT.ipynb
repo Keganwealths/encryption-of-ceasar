{
 "cells": [
  {
   "cell_type": "code",
   "execution_count": null,
   "id": "7c3582f9",
   "metadata": {},
   "outputs": [],
   "source": [
    "''' \n",
    "Caesar's Cipher Encryption and Decryption\n",
    "\n",
    "The IT team needs to comply with the companies' policies on data privacy,  \n",
    "\n",
    "your boss tasks you to write an algorithm to encrypt and decrypt its internal messages using Caesar's Cipher\n",
    "\n",
    "In cryptography, a Caesar cipher, also known as shift cipher, is one of the simplest and most widely known encryption techniques. \n",
    "\n",
    "It is a type of substitution cipher in which each letter in the plaintext is replaced by a letter some fixed number of positions down the alphabet. \n",
    "\n",
    "For example, with a left shift of 3, D would be replaced by A, E would become B, and so on. The method is named after Julius Caesar, who used it in his private correspondence.\n",
    "\n",
    "The transformation can be represented by aligning two alphabets; the cipher alphabet is the plain alphabet rotated left or right by some number of positions. \n",
    "\n",
    "For instance, here is a Caesar cipher using a left rotation of three places, equivalent to a right shift of 23 (the shift parameter is used as the key):\n",
    "\n",
    "Plain:  ABCDEFGHIJKLMNOPQRSTUVWXYZ\n",
    "\n",
    "Cipher: XYZABCDEFGHIJKLMNOPQRSTUVW\n",
    "\n",
    "When encrypting, a person looks up each letter of the message in the “plain” line and writes down the corresponding letter in the “cipher” line.\n",
    "\n",
    "\n",
    "\n",
    "Ciphertext: QEB NRFZH YOLTK CLU GRJMP LSBO QEB IXWV ALD\n",
    "\n",
    "Plaintext:  THE QUICK BROWN FOX JUMPS OVER THE LAZY DOG\n",
    "\n",
    "Deciphering is done in reverse, with a right shift of 3.\n",
    "\n",
    "\n",
    "\n",
    "\n",
    "\n",
    "'''"
   ]
  },
  {
   "cell_type": "code",
   "execution_count": 3,
   "id": "3d02b8eb",
   "metadata": {},
   "outputs": [
    {
     "name": "stdout",
     "output_type": "stream",
     "text": [
      "WELCOME TO THE ENCRYPTION AND DECRYPTION APP \n",
      "=======================================================\n",
      "Cipher Text is : F txkq ql zllh\n",
      "Plain Text is : I want to cook\n"
     ]
    }
   ],
   "source": [
    "#welcome user to the program\n",
    "print('WELCOME TO THE ENCRYPTION AND DECRYPTION APP \\n=======================================================')\n",
    "#ask for necessary action\n",
    "ask_user=input('\\nDo you want to encrypt or decrypt (enter encrypt or decrypt)?').lower()\n",
    "\n",
    "#condition\n",
    "if ask_user=='encrypt':\n",
    "\n",
    "    def encrypt_text(plaintext,n):\n",
    "        ans = \"\"\n",
    "        # iterate over the given text\n",
    "        for i in range(len(plaintext)):\n",
    "            ch = plaintext[i]\n",
    "            \n",
    "            # check if space is there then simply add space\n",
    "            if ch==\" \":\n",
    "                ans+=\" \"\n",
    "            # check if a character is uppercase then encrypt it accordingly \n",
    "            elif (ch.isupper()):\n",
    "                ans += chr((ord(ch) + n-65) % 26 + 65)\n",
    "            # check if a character is lowercase then encrypt it accordingly\n",
    "            \n",
    "            else:\n",
    "                ans += chr((ord(ch) + n-97) % 26 + 97)\n",
    "        \n",
    "        return ans\n",
    "\n",
    "    plaintext = input(\"Enter the text to be Encryption\")\n",
    "    n = -3\n",
    "    print(\"Plain Text is : \" + plaintext)\n",
    "\n",
    "    print(\"Cipher Text is : \" + encrypt_text(plaintext,n))\n",
    "else:\n",
    " def decrypt_text(ciphertext,n):\n",
    "    ans = \"\"\n",
    "    # iterate over the given text\n",
    "    for i in range(len(ciphertext)):\n",
    "        ch = ciphertext[i]\n",
    "        \n",
    "        # check if space is there then simply add space\n",
    "        if ch==\" \":\n",
    "            ans+=\" \"\n",
    "        # check if a character is uppercase then encrypt it accordingly \n",
    "        elif (ch.isupper()):\n",
    "            ans += chr((ord(ch) - n-65) % 26 + 65)\n",
    "        # check if a character is lowercase then encrypt it accordingly\n",
    "        \n",
    "        else:\n",
    "            ans += chr((ord(ch) - n-97) % 26 + 97)\n",
    "    \n",
    "    return ans\n",
    "\n",
    "ciphertext = input(\"Enter the text to be decrypted: \")\n",
    "n = -3\n",
    "print(\"Cipher Text is : \" + ciphertext)\n",
    "\n",
    "print(\"Plain Text is : \" + decrypt_text(ciphertext,n))\n",
    "\n",
    "\n",
    "\n",
    "\n"
   ]
  },
  {
   "cell_type": "code",
   "execution_count": 12,
   "id": "7175c8d2",
   "metadata": {},
   "outputs": [
    {
     "name": "stdout",
     "output_type": "stream",
     "text": [
      "Enter the letter you want to encrypt:A\n",
      "the unicode point of \"A\" is 65:\n"
     ]
    }
   ],
   "source": [
    "s=input('Enter the letter you want to encrypt:')\n",
    "for ch in s:\n",
    "    print(f'the unicode point of \"{ch}\" is {ord(ch)}:')"
   ]
  },
  {
   "cell_type": "code",
   "execution_count": null,
   "id": "73c4b16d",
   "metadata": {},
   "outputs": [],
   "source": []
  },
  {
   "cell_type": "code",
   "execution_count": null,
   "id": "b7de387a",
   "metadata": {},
   "outputs": [],
   "source": []
  },
  {
   "cell_type": "code",
   "execution_count": null,
   "id": "cf58c548",
   "metadata": {},
   "outputs": [],
   "source": []
  }
 ],
 "metadata": {
  "kernelspec": {
   "display_name": "Python 3 (ipykernel)",
   "language": "python",
   "name": "python3"
  },
  "language_info": {
   "codemirror_mode": {
    "name": "ipython",
    "version": 3
   },
   "file_extension": ".py",
   "mimetype": "text/x-python",
   "name": "python",
   "nbconvert_exporter": "python",
   "pygments_lexer": "ipython3",
   "version": "3.11.2"
  }
 },
 "nbformat": 4,
 "nbformat_minor": 5
}
